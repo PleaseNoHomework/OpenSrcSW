{
 "cells": [
  {
   "cell_type": "markdown",
   "id": "6dc9662c",
   "metadata": {},
   "source": [
    "실습문제 1번"
   ]
  },
  {
   "cell_type": "code",
   "execution_count": null,
   "id": "90ee71a5",
   "metadata": {},
   "outputs": [],
   "source": [
    "all = 456\n",
    "hour = int(456/60)\n",
    "min = 456%60\n",
    "\n",
    "print(str(all) + \"분은 \"+str(hour) + \"시 \"+str(min) + \"분\")"
   ]
  },
  {
   "cell_type": "markdown",
   "id": "a8e7404a",
   "metadata": {},
   "source": [
    "실습문제 2번"
   ]
  },
  {
   "cell_type": "code",
   "execution_count": null,
   "id": "131a9c9f",
   "metadata": {},
   "outputs": [],
   "source": [
    "score = {\"홍길동\":3.4, \"임꺽정\":4.0, \"김철수\":2.8, \"이영희\":3.9}\n",
    "name = list(score)\n",
    "name.sort()\n",
    "\n",
    "print(score[name[0]])"
   ]
  }
 ],
 "metadata": {
  "kernelspec": {
   "display_name": "Python 3 (ipykernel)",
   "language": "python",
   "name": "python3"
  },
  "language_info": {
   "codemirror_mode": {
    "name": "ipython",
    "version": 3
   },
   "file_extension": ".py",
   "mimetype": "text/x-python",
   "name": "python",
   "nbconvert_exporter": "python",
   "pygments_lexer": "ipython3",
   "version": "3.9.7"
  }
 },
 "nbformat": 4,
 "nbformat_minor": 5
}
