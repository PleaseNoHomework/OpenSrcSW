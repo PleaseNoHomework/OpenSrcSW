{
 "cells": [
  {
   "cell_type": "markdown",
   "id": "73599533",
   "metadata": {},
   "source": [
    "1번문제"
   ]
  },
  {
   "cell_type": "code",
   "execution_count": 2,
   "id": "92ad5a0d",
   "metadata": {},
   "outputs": [
    {
     "data": {
      "image/png": "[encoded data removed]",
      "text/plain": [
       "<Figure size 432x288 with 1 Axes>"
      ]
     },
     "metadata": {
      "needs_background": "light"
     },
     "output_type": "display_data"
    }
   ],
   "source": [
    "import numpy as np\n",
    "import matplotlib.pyplot as plt\n",
    "\n",
    "Cdata = []\n",
    "CX = []\n",
    "Docs = np.array([[1,1,0,1,0,1],[1,1,1,0,1,0],[1,1,0,1,0,0]])\n",
    "Query = np.array([1,1,0,0,1,0])\n",
    "\n",
    "x = np.arange(3)\n",
    "f = 0\n",
    "for i in Docs:\n",
    "    f += 1\n",
    "    DQ = np.dot(i, Query)\n",
    "    D = np.sqrt(np.dot(i,i))\n",
    "    Q = np.sqrt(np.dot(Query,Query))\n",
    "\n",
    "    Cos = DQ/(D*Q)\n",
    "    Cdata.append(Cos)\n",
    "    CX.append(\"doc{0} = \".format(f) + str(round(Cos, 2)))\n",
    "\n",
    "\n",
    "plt.title(\"Cosine similarities\")\n",
    "plt.xticks(x, CX)\n",
    "plt.bar(x, Cdata)\n",
    "\n",
    "plt.show()"
   ]
  },
  {
   "cell_type": "markdown",
   "id": "8e19adee",
   "metadata": {},
   "source": [
    "2번문제"
   ]
  },
  {
   "cell_type": "code",
   "execution_count": null,
   "id": "5da0c182",
   "metadata": {},
   "outputs": [],
   "source": [
    "import pandas as pd\n",
    "\n",
    "\n",
    "data = {\n",
    "    'unit price' : [1000, 280 , 900],\n",
    "    'number' : [25, 120, 30]\n",
    "\n",
    "}\n",
    "indexName = ['store1', 'store2', 'store3']\n",
    "\n",
    "ff = pd.DataFrame(data, index = indexName)\n",
    "print(ff)\n",
    "\n",
    "unit = data['unit price']\n",
    "num = data['number']\n",
    "\n",
    "total = []\n",
    "maxt = 0\n",
    "maxi = 0\n",
    "for i in range(3):\n",
    "    a = int(unit[i])*int(num[i])\n",
    "    total.append(a)\n",
    "    if(maxt < a):\n",
    "        maxt = a\n",
    "        maxi = i\n",
    "\n",
    "data['total price'] = total\n",
    "\n",
    "ff = pd.DataFrame(data, index = indexName)\n",
    "\n",
    "print(ff)\n",
    "\n",
    "print(ff.iloc[[maxi]])"
   ]
  }
 ],
 "metadata": {
  "kernelspec": {
   "display_name": "Python 3 (ipykernel)",
   "language": "python",
   "name": "python3"
  },
  "language_info": {
   "codemirror_mode": {
    "name": "ipython",
    "version": 3
   },
   "file_extension": ".py",
   "mimetype": "text/x-python",
   "name": "python",
   "nbconvert_exporter": "python",
   "pygments_lexer": "ipython3",
   "version": "3.9.7"
  }
 },
 "nbformat": 4,
 "nbformat_minor": 5
}
