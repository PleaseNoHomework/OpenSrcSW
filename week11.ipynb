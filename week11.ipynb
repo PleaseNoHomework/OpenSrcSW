{
 "cells": [
  {
   "cell_type": "markdown",
   "id": "5a25bab5-d568-4be0-ac9d-5e82492ce83b",
   "metadata": {},
   "source": [
    "1번 문제"
   ]
  },
  {
   "cell_type": "code",
   "execution_count": 3,
   "id": "9e8b7b00-ad46-4173-b197-7d462c572906",
   "metadata": {},
   "outputs": [
    {
     "ename": "FileNotFoundError",
     "evalue": "[Errno 2] No such file or directory: 'README.txt'",
     "output_type": "error",
     "traceback": [
      "\u001b[1;31m---------------------------------------------------------------------------\u001b[0m",
      "\u001b[1;31mFileNotFoundError\u001b[0m                         Traceback (most recent call last)",
      "\u001b[1;32m~\\AppData\\Local\\Temp/ipykernel_10004/1654323226.py\u001b[0m in \u001b[0;36m<module>\u001b[1;34m\u001b[0m\n\u001b[1;32m----> 1\u001b[1;33m \u001b[0mf\u001b[0m \u001b[1;33m=\u001b[0m \u001b[0mopen\u001b[0m\u001b[1;33m(\u001b[0m\u001b[1;34m\"README.txt\"\u001b[0m\u001b[1;33m,\u001b[0m \u001b[1;34m'r'\u001b[0m\u001b[1;33m)\u001b[0m\u001b[1;33m\u001b[0m\u001b[1;33m\u001b[0m\u001b[0m\n\u001b[0m\u001b[0;32m      2\u001b[0m \u001b[0mlines\u001b[0m \u001b[1;33m=\u001b[0m \u001b[0mf\u001b[0m\u001b[1;33m.\u001b[0m\u001b[0mreadlines\u001b[0m\u001b[1;33m(\u001b[0m\u001b[1;33m)\u001b[0m\u001b[1;33m\u001b[0m\u001b[1;33m\u001b[0m\u001b[0m\n\u001b[0;32m      3\u001b[0m \u001b[1;33m\u001b[0m\u001b[0m\n\u001b[0;32m      4\u001b[0m \u001b[0mdic\u001b[0m \u001b[1;33m=\u001b[0m \u001b[1;33m{\u001b[0m\u001b[1;33m}\u001b[0m\u001b[1;33m\u001b[0m\u001b[1;33m\u001b[0m\u001b[0m\n\u001b[0;32m      5\u001b[0m \u001b[1;33m\u001b[0m\u001b[0m\n",
      "\u001b[1;31mFileNotFoundError\u001b[0m: [Errno 2] No such file or directory: 'README.txt'"
     ]
    }
   ],
   "source": [
    "f = open(\"README.txt\", 'r')\n",
    "lines = f.readlines()\n",
    "\n",
    "dic = {}\n",
    "\n",
    "for line in lines:\n",
    "    ln = line.split()\n",
    "    for i in ln:\n",
    "        a = True\n",
    "        for x in dic:\n",
    "            if(x == i):\n",
    "                dic[i] += 1\n",
    "                a = False\n",
    "        if(a == True):\n",
    "            dic[i] = 1\n",
    "\n",
    "\n",
    "for i in dic:\n",
    "    print(i + \" \" + str(dic[i]))"
   ]
  },
  {
   "cell_type": "markdown",
   "id": "00703d7e-5c63-47bc-ad50-23e677a2de4d",
   "metadata": {},
   "source": [
    "2번 문제"
   ]
  },
  {
   "cell_type": "code",
   "execution_count": 4,
   "id": "a0d31367-1496-4f7e-96d1-bfb1735ff667",
   "metadata": {},
   "outputs": [
    {
     "name": "stdout",
     "output_type": "stream",
     "text": [
      "(1, 4)\n",
      "(2, 5)\n",
      "(2, 5), (3, 2)\n",
      "(5, 8), (6, 5)\n"
     ]
    }
   ],
   "source": [
    "class Point():\n",
    "    def __init__(self, x, y):\n",
    "        self.x = x\n",
    "        self.y = y\n",
    "    \n",
    "    def move(self, dx, dy):\n",
    "        self.x += dx\n",
    "        self.y += dy\n",
    "    def show(self):\n",
    "        print(\"(\"+str(self.x)+\", \"+str(self.y)+\")\")\n",
    "\n",
    "class Box():\n",
    "    def __init__(self, p1, p2):\n",
    "        self.p1 = p1\n",
    "        self.p2 = p2\n",
    "\n",
    "    def move(self, dx, dy):\n",
    "        self.p1.x += dx\n",
    "        self.p1.y += dy\n",
    "        self.p2.x += dx\n",
    "        self.p2.y += dy\n",
    "    def show(self):\n",
    "        print(\"(\"+str(self.p1.x)+\", \"+str(self.p1.y)+\"), (\" + str(self.p2.x)+\", \"+str(self.p2.y)+\")\")\n",
    "\n",
    "a = Point(1,4)\n",
    "a.show()\n",
    "a.move(1,1)\n",
    "a.show()\n",
    "\n",
    "b = Point(3,2)\n",
    "\n",
    "b1 = Box(a,b)\n",
    "b1.show()\n",
    "b1.move(3,3)\n",
    "b1.show()"
   ]
  },
  {
   "cell_type": "code",
   "execution_count": null,
   "id": "bb5dc46a-e187-4e3d-91e7-1f9e00fd7674",
   "metadata": {},
   "outputs": [],
   "source": []
  }
 ],
 "metadata": {
  "kernelspec": {
   "display_name": "Python 3 (ipykernel)",
   "language": "python",
   "name": "python3"
  },
  "language_info": {
   "codemirror_mode": {
    "name": "ipython",
    "version": 3
   },
   "file_extension": ".py",
   "mimetype": "text/x-python",
   "name": "python",
   "nbconvert_exporter": "python",
   "pygments_lexer": "ipython3",
   "version": "3.9.7"
  }
 },
 "nbformat": 4,
 "nbformat_minor": 5
}
