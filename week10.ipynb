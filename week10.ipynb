{
 "cells": [
  {
   "cell_type": "markdown",
   "id": "9c25d670",
   "metadata": {},
   "source": [
    "실습 1번"
   ]
  },
  {
   "cell_type": "code",
   "execution_count": 18,
   "id": "64532d9a",
   "metadata": {},
   "outputs": [
    {
     "name": "stdout",
     "output_type": "stream",
     "text": [
      "죽는 날까지 하늘을 우러러\n",
      "한 점 부끄럼이 없기를,\n",
      "잎새에 이는 바람에도\n",
      "너는 괴로워했다.\n",
      "별을 노래하는 마음으로\n",
      "모든 죽어가는 것을 사랑해야지\n",
      "그리고 너한테 주어진 길을\n",
      "걸어가야겠다.\n",
      "오늘 밤에도 별이 바람에 스치운다.\n"
     ]
    }
   ],
   "source": [
    "str = \"\"\"  죽는 날까지 하늘을 우러러\n",
    "한 점 부끄럼이 없기를,\n",
    "잎새에 이는 바람에도\n",
    "나는 괴로워했다.\n",
    "별을 노래하는 마음으로\n",
    "모든 죽어가는 것을 사랑해야지\n",
    "그리고 나한테 주어진 길을\n",
    "걸어가야겠다.\n",
    "오늘 밤에도 별이 바람에 스치운다.     \"\"\"\n",
    "\n",
    "str = str.strip()\n",
    "str = str.replace(\"나\", \"너\")\n",
    "print(str)"
   ]
  },
  {
   "cell_type": "markdown",
   "id": "ef1b18bc",
   "metadata": {},
   "source": [
    "실습 2번"
   ]
  },
  {
   "cell_type": "code",
   "execution_count": 17,
   "id": "170c50f8",
   "metadata": {},
   "outputs": [
    {
     "name": "stdout",
     "output_type": "stream",
     "text": [
      "Numbers?5 8 79 10\n",
      "Max = 79\n"
     ]
    }
   ],
   "source": [
    "arr = input(\"Numbers?\")\n",
    "\n",
    "numArr = arr.split()\n",
    "\n",
    "max = int(numArr[0])\n",
    "\n",
    "for i in range(len(numArr)):\n",
    "    num = int(numArr[i])\n",
    "    if(max < num):\n",
    "        max = num\n",
    "        \n",
    "print(\"Max = {0}\".format(max))"
   ]
  },
  {
   "cell_type": "markdown",
   "id": "a3b3b62d",
   "metadata": {},
   "source": [
    "실습 3번"
   ]
  },
  {
   "cell_type": "code",
   "execution_count": 35,
   "id": "9d9fdb2d",
   "metadata": {},
   "outputs": [
    {
     "name": "stdout",
     "output_type": "stream",
     "text": [
      "\"abc def\" -> \"efg!bcd\"\n",
      "\"efg!bcd\" -> \"abc def\"\n"
     ]
    }
   ],
   "source": [
    "def changeAscii(str, num):\n",
    "    newStr = \"\"\n",
    "    for i in str:\n",
    "        code = ord(i)\n",
    "        newStr += chr(code + num)\n",
    "    return newStr\n",
    "\n",
    "def encode(str, key):\n",
    "    list = str.split()\n",
    "    list = list[::-1]\n",
    "    \n",
    "    newStr = \" \".join(list)\n",
    "    return changeAscii(newStr, key)\n",
    "\n",
    "def decode(str, key):\n",
    "    newStr = encode(str, key*(-1))\n",
    "    \n",
    "    list = newStr.split()\n",
    "    list = list[::-1]\n",
    "    \n",
    "    newStr2 = \" \".join(list)\n",
    "    return newStr2\n",
    "\n",
    "str = \"abc def\"\n",
    "encodeS = encode(str, 1)\n",
    "print(\"\\\"\" + str + \"\\\"\" + \" -> \" + \"\\\"\" +encodeS+\"\\\"\")\n",
    "\n",
    "decodeS = decode(encodeS, 1)\n",
    "\n",
    "print(\"\\\"\" + encodeS + \"\\\"\" + \" -> \" + \"\\\"\" +decodeS+\"\\\"\")"
   ]
  },
  {
   "cell_type": "code",
   "execution_count": null,
   "id": "b873f55b",
   "metadata": {},
   "outputs": [],
   "source": []
  }
 ],
 "metadata": {
  "kernelspec": {
   "display_name": "Python 3 (ipykernel)",
   "language": "python",
   "name": "python3"
  },
  "language_info": {
   "codemirror_mode": {
    "name": "ipython",
    "version": 3
   },
   "file_extension": ".py",
   "mimetype": "text/x-python",
   "name": "python",
   "nbconvert_exporter": "python",
   "pygments_lexer": "ipython3",
   "version": "3.9.7"
  }
 },
 "nbformat": 4,
 "nbformat_minor": 5
}
