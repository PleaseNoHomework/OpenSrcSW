{
 "cells": [
  {
   "cell_type": "code",
   "execution_count": 1,
   "id": "0e446385",
   "metadata": {},
   "outputs": [
    {
     "ename": "FileNotFoundError",
     "evalue": "[Errno 2] No such file or directory: 'country_vaccinations.csv'",
     "output_type": "error",
     "traceback": [
      "\u001b[1;31m---------------------------------------------------------------------------\u001b[0m",
      "\u001b[1;31mFileNotFoundError\u001b[0m                         Traceback (most recent call last)",
      "Input \u001b[1;32mIn [1]\u001b[0m, in \u001b[0;36m<cell line: 3>\u001b[1;34m()\u001b[0m\n\u001b[0;32m      1\u001b[0m \u001b[38;5;28;01mimport\u001b[39;00m \u001b[38;5;21;01mcsv\u001b[39;00m\n\u001b[1;32m----> 3\u001b[0m f \u001b[38;5;241m=\u001b[39m \u001b[38;5;28;43mopen\u001b[39;49m\u001b[43m(\u001b[49m\u001b[38;5;124;43m\"\u001b[39;49m\u001b[38;5;124;43mcountry_vaccinations.csv\u001b[39;49m\u001b[38;5;124;43m\"\u001b[39;49m\u001b[43m,\u001b[49m\u001b[38;5;124;43m'\u001b[39;49m\u001b[38;5;124;43mr\u001b[39;49m\u001b[38;5;124;43m'\u001b[39;49m\u001b[43m,\u001b[49m\u001b[43mencoding\u001b[49m\u001b[38;5;241;43m=\u001b[39;49m\u001b[38;5;124;43m'\u001b[39;49m\u001b[38;5;124;43mCP949\u001b[39;49m\u001b[38;5;124;43m'\u001b[39;49m\u001b[43m)\u001b[49m\n",
      "\u001b[1;31mFileNotFoundError\u001b[0m: [Errno 2] No such file or directory: 'country_vaccinations.csv'"
     ]
    }
   ],
   "source": [
    "import csv\n",
    "import pandas as pd\n",
    "f = open(\"country_vaccinations.csv\",'r',encoding='CP949')\n",
    "f.readline()\n",
    "Maxd = \"\"\n",
    "MaxV = 0\n",
    "Mind = \"\"\n",
    "MinV = 2000000\n",
    "data = csv.reader(f)\n",
    "\n",
    "allcon = {}\n",
    "allcont = []\n",
    "for w in data:\n",
    "    date = w[2]\n",
    "    many = w[7]\n",
    "    if(many == \"\"):\n",
    "        continue\n",
    "    if(MaxV < float(many)):\n",
    "        MaxV = float(many)\n",
    "        MaxD = date\n",
    "    if(MinV > float(many)):\n",
    "        MinV = float(many)\n",
    "        MinD = date\n",
    "\n",
    "    con = w[0]\n",
    "    conV = w[3]\n",
    "    check = 0\n",
    "    for s in allcont:\n",
    "        if(s == w[12]):\n",
    "            check +=1\n",
    "    if(check == 0):\n",
    "        allcont.append(w[12])\n",
    "    if(conV != \"\"):\n",
    "        allcon[con] = conV\n",
    "print(\"가장 많이 맞은 날 : \"+ MaxD)\n",
    "print(\"가장 조금 맞은 날 : \"+ MinD)\n",
    "\n",
    "allconC = list(allcon.keys())\n",
    "allconV = list(allcon.values())\n",
    "allcons = []\n",
    "allconV.sort(reverse=True)\n",
    "for j in allconV:\n",
    "    for i in allconC:\n",
    "        if(allcon[i] == j): \n",
    "            allcons.append(allcon[i])\n",
    "\n",
    "tt = pd.DataFrame(data = allconV, index = allconC, column = allcont)\n",
    "print(tt)"
   ]
  },
  {
   "cell_type": "code",
   "execution_count": null,
   "id": "283145aa",
   "metadata": {},
   "outputs": [],
   "source": []
  }
 ],
 "metadata": {
  "kernelspec": {
   "display_name": "Python 3 (ipykernel)",
   "language": "python",
   "name": "python3"
  },
  "language_info": {
   "codemirror_mode": {
    "name": "ipython",
    "version": 3
   },
   "file_extension": ".py",
   "mimetype": "text/x-python",
   "name": "python",
   "nbconvert_exporter": "python",
   "pygments_lexer": "ipython3",
   "version": "3.9.12"
  }
 },
 "nbformat": 4,
 "nbformat_minor": 5
}
